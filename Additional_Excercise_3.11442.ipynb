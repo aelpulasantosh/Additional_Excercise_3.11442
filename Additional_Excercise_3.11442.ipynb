{
 "cells": [
  {
   "cell_type": "markdown",
   "metadata": {},
   "source": [
    "# Write a python program which creates a class named Cone and write a function calculate_area which calculates the area of the Cone"
   ]
  },
  {
   "cell_type": "code",
   "execution_count": 1,
   "metadata": {},
   "outputs": [
    {
     "name": "stdout",
     "output_type": "stream",
     "text": [
      "Enter the radius of cone\t5.2\n",
      "Enter the height of cone\t4.5\n",
      "Area of cone with radius 5.2 and height 4.5 is 197.18954136010728\n"
     ]
    }
   ],
   "source": [
    "    class cone():\n",
    "          \n",
    "        def __init__(self,r,h):\n",
    "            \n",
    "            self.r=float(r)\n",
    "            self.h=float(h)\n",
    "        \n",
    "        def area(self):\n",
    "            pi=3.14\n",
    "            return(pi*self.r*(self.r+(self.r**2+self.h**2)**0.5))\n",
    "r=input(\"Enter the radius of cone\\t\")\n",
    "h=input(\"Enter the height of cone\\t\")\n",
    "t=cone(r,h)\n",
    "\n",
    "print(\"Area of cone with radius {} and height {} is {}\" .format(r,h,t.area()))\n",
    "    "
   ]
  },
  {
   "cell_type": "markdown",
   "metadata": {},
   "source": [
    "# Define a class MathOperation which implements pow(x,n) without using python's in-built pow() method"
   ]
  },
  {
   "cell_type": "code",
   "execution_count": 2,
   "metadata": {},
   "outputs": [
    {
     "name": "stdout",
     "output_type": "stream",
     "text": [
      "0.125\n",
      "243\n",
      "1\n"
     ]
    }
   ],
   "source": [
    "class py_solution:\n",
    "    def pow(self, x, n):\n",
    "        if x==0 or x==1 or n==1:\n",
    "            return x \n",
    "\n",
    "        if x==-1:\n",
    "            if n%2 ==0:\n",
    "                return 1\n",
    "            else:\n",
    "                return -1\n",
    "        if n==0:\n",
    "            return 1\n",
    "        if n<0:\n",
    "            return 1/self.pow(x,-n)\n",
    "        val = self.pow(x,n//2)\n",
    "        if n%2 ==0:\n",
    "            return val*val\n",
    "        return val*val*x\n",
    "\n",
    "print(py_solution().pow(2, -3));\n",
    "print(py_solution().pow(3, 5));\n",
    "print(py_solution().pow(100, 0));"
   ]
  },
  {
   "cell_type": "markdown",
   "metadata": {},
   "source": [
    "# Write a python program that creates a class Base and Derived. Use inbuilt function issubclass and isinstance which gives boolean results (True or False)"
   ]
  },
  {
   "cell_type": "code",
   "execution_count": 3,
   "metadata": {},
   "outputs": [
    {
     "name": "stdout",
     "output_type": "stream",
     "text": [
      "True\n",
      "False\n",
      "False\n",
      "True\n"
     ]
    }
   ],
   "source": [
    "class Base(): \n",
    "    pass   # Empty Class \n",
    "  \n",
    "class Derived(Base): \n",
    "    pass   # Empty Class \n",
    "  \n",
    "# Driver Code \n",
    "print(issubclass(Derived, Base)) \n",
    "print(issubclass(Base, Derived)) \n",
    "  \n",
    "d = Derived() \n",
    "b = Base() \n",
    "  \n",
    "# b is not an instance of Derived \n",
    "print(isinstance(b, Derived)) \n",
    "  \n",
    "# But d is an instance of Base \n",
    "print(isinstance(d, Base)) "
   ]
  },
  {
   "cell_type": "markdown",
   "metadata": {},
   "source": [
    "# Write a python program that creates base class Person which has two methods\n",
    "def __init__(self, first, last)\n",
    "def __str__(self)\n",
    "Also create a derived class named Employee which uses the base class\n",
    "method “def __str__(self)” using “super()” to concatenate first name wit\n",
    "h last name"
   ]
  },
  {
   "cell_type": "code",
   "execution_count": 4,
   "metadata": {},
   "outputs": [
    {
     "name": "stdout",
     "output_type": "stream",
     "text": [
      "santoshKumar\n"
     ]
    }
   ],
   "source": [
    "class Person:\n",
    "    def __init__(self,first,last):\n",
    "        self.firstname=first\n",
    "        self.lastname=last\n",
    "    def __str__(self):\n",
    "        return \"{}\"\"{}\".format(self.firstname,self.lastname)\n",
    "        \n",
    "class Employee(Person):\n",
    "    def __init__(self,first,last):\n",
    "        super().__init__(first,last)\n",
    "t=Employee(\"santosh\",\"Kumar\")\n",
    "print(t)\n",
    "    \n"
   ]
  },
  {
   "cell_type": "code",
   "execution_count": null,
   "metadata": {},
   "outputs": [],
   "source": []
  }
 ],
 "metadata": {
  "kernelspec": {
   "display_name": "Python 3",
   "language": "python",
   "name": "python3"
  },
  "language_info": {
   "codemirror_mode": {
    "name": "ipython",
    "version": 3
   },
   "file_extension": ".py",
   "mimetype": "text/x-python",
   "name": "python",
   "nbconvert_exporter": "python",
   "pygments_lexer": "ipython3",
   "version": "3.7.0"
  }
 },
 "nbformat": 4,
 "nbformat_minor": 2
}
